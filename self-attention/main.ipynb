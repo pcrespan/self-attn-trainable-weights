{
 "cells": [
  {
   "cell_type": "code",
   "id": "initial_id",
   "metadata": {
    "collapsed": true,
    "ExecuteTime": {
     "end_time": "2024-12-17T13:08:28.161596Z",
     "start_time": "2024-12-17T13:08:28.158396Z"
    }
   },
   "source": "import torch",
   "outputs": [],
   "execution_count": 21
  },
  {
   "metadata": {
    "ExecuteTime": {
     "end_time": "2024-12-17T13:08:28.184896Z",
     "start_time": "2024-12-17T13:08:28.181498Z"
    }
   },
   "cell_type": "code",
   "source": [
    "inputs = torch.tensor(\n",
    "    [[0.43, 0.15, 0.89], # Your\n",
    "    [0.55, 0.87, 0.66],  # journey\n",
    "    [0.57, 0.85, 0.64],  # starts\n",
    "    [0.22, 0.58, 0.33],  # with\n",
    "    [0.77, 0.25, 0.10],  # one\n",
    "    [0.05, 0.80, 0.55]]  # step\n",
    ")"
   ],
   "id": "cdcc2df01b97a13c",
   "outputs": [],
   "execution_count": 22
  },
  {
   "metadata": {
    "ExecuteTime": {
     "end_time": "2024-12-17T13:08:28.237989Z",
     "start_time": "2024-12-17T13:08:28.233321Z"
    }
   },
   "cell_type": "code",
   "source": [
    "x_2 = inputs[1]\n",
    "d_in = inputs.shape[1] # tamanho do input embedding, d = 3\n",
    "d_out = 2 # tamanho do output embedding d_out = 2"
   ],
   "id": "ebdccf53d51d7b62",
   "outputs": [],
   "execution_count": 23
  },
  {
   "metadata": {
    "ExecuteTime": {
     "end_time": "2024-12-17T13:08:28.289113Z",
     "start_time": "2024-12-17T13:08:28.283427Z"
    }
   },
   "cell_type": "code",
   "source": [
    "torch.manual_seed(123)\n",
    "W_query = torch.nn.Parameter(torch.rand(d_in, d_out), requires_grad=False)\n",
    "W_value = torch.nn.Parameter(torch.rand(d_in, d_out), requires_grad=False)\n",
    "W_key = torch.nn.Parameter(torch.rand(d_in, d_out), requires_grad=False)"
   ],
   "id": "ace816cf5bee432a",
   "outputs": [],
   "execution_count": 24
  },
  {
   "metadata": {
    "ExecuteTime": {
     "end_time": "2024-12-17T13:08:28.340803Z",
     "start_time": "2024-12-17T13:08:28.335619Z"
    }
   },
   "cell_type": "code",
   "source": [
    "# x_2 é journey, então vamos encontrar a query para ele\n",
    "query_2 = x_2 @ W_query\n",
    "key_2 = x_2 @ W_key\n",
    "value_2 = x_2 @ W_value\n",
    "print(query_2)"
   ],
   "id": "2fe16525d2d89151",
   "outputs": [
    {
     "name": "stdout",
     "output_type": "stream",
     "text": [
      "tensor([0.4306, 1.4551])\n"
     ]
    }
   ],
   "execution_count": 25
  },
  {
   "metadata": {
    "ExecuteTime": {
     "end_time": "2024-12-17T13:08:28.397542Z",
     "start_time": "2024-12-17T13:08:28.393038Z"
    }
   },
   "cell_type": "code",
   "source": [
    "keys = inputs @ W_key\n",
    "values = inputs @ W_value\n",
    "queries = inputs @ W_query\n",
    "\n",
    "print(\"keys.shape: \", keys.shape)\n",
    "print(\"values.shape: \", values.shape)\n",
    "print(\"queries.shape: \", queries.shape)"
   ],
   "id": "8b961c578c07113d",
   "outputs": [
    {
     "name": "stdout",
     "output_type": "stream",
     "text": [
      "keys.shape:  torch.Size([6, 2])\n",
      "values.shape:  torch.Size([6, 2])\n",
      "queries.shape:  torch.Size([6, 2])\n"
     ]
    }
   ],
   "execution_count": 26
  },
  {
   "metadata": {
    "ExecuteTime": {
     "end_time": "2024-12-17T13:08:28.455430Z",
     "start_time": "2024-12-17T13:08:28.449692Z"
    }
   },
   "cell_type": "code",
   "source": [
    "keys_2 = keys[1] # keys para journey\n",
    "attn_score_22 = query_2.dot(keys_2)\n",
    "print(attn_score_22)"
   ],
   "id": "44aab4bef9209026",
   "outputs": [
    {
     "name": "stdout",
     "output_type": "stream",
     "text": [
      "tensor(1.6307)\n"
     ]
    }
   ],
   "execution_count": 27
  },
  {
   "metadata": {
    "ExecuteTime": {
     "end_time": "2024-12-17T13:08:28.512325Z",
     "start_time": "2024-12-17T13:08:28.507178Z"
    }
   },
   "cell_type": "code",
   "source": [
    "# query_2 é de dimensão 1x2\n",
    "attn_score_2 = query_2 @ keys.T\n",
    "print(attn_score_2)"
   ],
   "id": "c4ba553bd915bbfd",
   "outputs": [
    {
     "name": "stdout",
     "output_type": "stream",
     "text": [
      "tensor([1.3621, 1.6307, 1.5975, 0.9023, 0.5511, 1.2828])\n"
     ]
    }
   ],
   "execution_count": 28
  },
  {
   "metadata": {
    "ExecuteTime": {
     "end_time": "2024-12-17T13:08:28.625482Z",
     "start_time": "2024-12-17T13:08:28.620977Z"
    }
   },
   "cell_type": "code",
   "source": [
    "# Queries 6x2 e keys 2x6, resulta em matriz 6x6\n",
    "attn_scores = queries @ keys.T # Produto escalar entre vetores\n",
    "print(attn_scores) # cada linha simboliza os attn scores entre as queries e todas as outras chaves"
   ],
   "id": "55fd9d0878707467",
   "outputs": [
    {
     "name": "stdout",
     "output_type": "stream",
     "text": [
      "tensor([[1.0092, 1.1920, 1.1677, 0.6576, 0.4014, 0.9366],\n",
      "        [1.3621, 1.6307, 1.5975, 0.9023, 0.5511, 1.2828],\n",
      "        [1.3437, 1.6096, 1.5769, 0.8908, 0.5441, 1.2663],\n",
      "        [0.7477, 0.8950, 0.8768, 0.4952, 0.3025, 0.7041],\n",
      "        [0.6339, 0.7769, 0.7612, 0.4320, 0.2642, 0.6123],\n",
      "        [0.9758, 1.1587, 1.1351, 0.6400, 0.3907, 0.9109]])\n"
     ]
    }
   ],
   "execution_count": 29
  },
  {
   "metadata": {
    "ExecuteTime": {
     "end_time": "2024-12-17T16:18:16.472336Z",
     "start_time": "2024-12-17T16:18:16.464948Z"
    }
   },
   "cell_type": "code",
   "source": [
    "# Normalização para obter attention weights\n",
    "# Escalar valores para sqrt(keys_dim) antes de softmax\n",
    "# No caso, keys_dim = 2\n",
    "keys_dim = keys.shape[-1]\n",
    "attn_weights = torch.softmax(attn_scores / keys_dim**0.5, dim=-1)\n",
    "print(attn_weights)"
   ],
   "id": "d2bd516b38b38917",
   "outputs": [
    {
     "name": "stdout",
     "output_type": "stream",
     "text": [
      "tensor([[0.1774, 0.2019, 0.1984, 0.1384, 0.1154, 0.1685],\n",
      "        [0.1779, 0.2151, 0.2101, 0.1285, 0.1002, 0.1682],\n",
      "        [0.1777, 0.2145, 0.2096, 0.1290, 0.1010, 0.1683],\n",
      "        [0.1742, 0.1933, 0.1908, 0.1457, 0.1271, 0.1689],\n",
      "        [0.1718, 0.1900, 0.1879, 0.1489, 0.1322, 0.1692],\n",
      "        [0.1766, 0.2010, 0.1977, 0.1393, 0.1168, 0.1687]])\n"
     ]
    }
   ],
   "execution_count": 31
  },
  {
   "metadata": {
    "ExecuteTime": {
     "end_time": "2024-12-17T16:18:40.426035Z",
     "start_time": "2024-12-17T16:18:40.423041Z"
    }
   },
   "cell_type": "code",
   "source": [
    "context_vector = attn_weights @ values\n",
    "print(context_vector)"
   ],
   "id": "be47c77fb6703855",
   "outputs": [
    {
     "name": "stdout",
     "output_type": "stream",
     "text": [
      "tensor([[0.3507, 0.8808],\n",
      "        [0.3566, 0.8973],\n",
      "        [0.3563, 0.8966],\n",
      "        [0.3464, 0.8692],\n",
      "        [0.3446, 0.8644],\n",
      "        [0.3502, 0.8795]])\n"
     ]
    }
   ],
   "execution_count": 32
  },
  {
   "metadata": {
    "ExecuteTime": {
     "end_time": "2024-12-17T17:28:42.516826Z",
     "start_time": "2024-12-17T17:28:42.512299Z"
    }
   },
   "cell_type": "code",
   "source": [
    "class SelfAttention_v1(torch.nn.Module):\n",
    "    \n",
    "    def __init__(self, d_in, d_out):\n",
    "        super().__init__()\n",
    "        self.W_query = torch.nn.Parameter(torch.rand(d_in, d_out))\n",
    "        self.W_key = torch.nn.Parameter(torch.rand(d_in, d_out))\n",
    "        self.W_value = torch.nn.Parameter(torch.rand(d_in, d_out))\n",
    "    \n",
    "    # Computa keys values e queries\n",
    "    def forward(self, x):\n",
    "        keys = x @ self.W_key\n",
    "        values = x @ self.W_value\n",
    "        queries = x @ self.W_query\n",
    "        \n",
    "        attn_scores = queries @ keys.T\n",
    "        attn_weights = torch.softmax(\n",
    "            attn_scores / keys.shape[-1]**0.5, dim=-1\n",
    "        )\n",
    "        \n",
    "        context_vector = attn_weights @ values\n",
    "        return context_vector"
   ],
   "id": "460ec81d6fb88c84",
   "outputs": [],
   "execution_count": 34
  },
  {
   "metadata": {
    "ExecuteTime": {
     "end_time": "2024-12-17T17:29:12.443622Z",
     "start_time": "2024-12-17T17:29:12.438150Z"
    }
   },
   "cell_type": "code",
   "source": [
    "torch.manual_seed(123)\n",
    "sa_v1 = SelfAttention_v1(d_in, d_out)\n",
    "print(sa_v1(inputs)) # Chama a função de forward"
   ],
   "id": "b52a12e2b2e57bda",
   "outputs": [
    {
     "name": "stdout",
     "output_type": "stream",
     "text": [
      "tensor([[0.2996, 0.8053],\n",
      "        [0.3061, 0.8210],\n",
      "        [0.3058, 0.8203],\n",
      "        [0.2948, 0.7939],\n",
      "        [0.2927, 0.7891],\n",
      "        [0.2990, 0.8040]], grad_fn=<MmBackward0>)\n"
     ]
    }
   ],
   "execution_count": 36
  }
 ],
 "metadata": {
  "kernelspec": {
   "display_name": "Python 3",
   "language": "python",
   "name": "python3"
  },
  "language_info": {
   "codemirror_mode": {
    "name": "ipython",
    "version": 2
   },
   "file_extension": ".py",
   "mimetype": "text/x-python",
   "name": "python",
   "nbconvert_exporter": "python",
   "pygments_lexer": "ipython2",
   "version": "2.7.6"
  }
 },
 "nbformat": 4,
 "nbformat_minor": 5
}
