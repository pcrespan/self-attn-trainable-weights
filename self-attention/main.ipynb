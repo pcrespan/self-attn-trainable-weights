{
 "cells": [
  {
   "cell_type": "code",
   "id": "initial_id",
   "metadata": {
    "collapsed": true,
    "ExecuteTime": {
     "end_time": "2024-12-20T19:49:50.774798Z",
     "start_time": "2024-12-20T19:49:48.870997Z"
    }
   },
   "source": "import torch",
   "outputs": [],
   "execution_count": 2
  },
  {
   "metadata": {
    "ExecuteTime": {
     "end_time": "2024-12-20T19:49:50.783266Z",
     "start_time": "2024-12-20T19:49:50.780636Z"
    }
   },
   "cell_type": "code",
   "source": [
    "inputs = torch.tensor(\n",
    "    [[0.43, 0.15, 0.89], # Your\n",
    "    [0.55, 0.87, 0.66],  # journey\n",
    "    [0.57, 0.85, 0.64],  # starts\n",
    "    [0.22, 0.58, 0.33],  # with\n",
    "    [0.77, 0.25, 0.10],  # one\n",
    "    [0.05, 0.80, 0.55]]  # step\n",
    ")"
   ],
   "id": "cdcc2df01b97a13c",
   "outputs": [],
   "execution_count": 3
  },
  {
   "metadata": {
    "ExecuteTime": {
     "end_time": "2024-12-20T19:49:50.829779Z",
     "start_time": "2024-12-20T19:49:50.827575Z"
    }
   },
   "cell_type": "code",
   "source": [
    "x_2 = inputs[1]\n",
    "d_in = inputs.shape[1] # tamanho do input embedding, d = 3\n",
    "d_out = 2 # tamanho do output embedding d_out = 2"
   ],
   "id": "ebdccf53d51d7b62",
   "outputs": [],
   "execution_count": 4
  },
  {
   "metadata": {
    "ExecuteTime": {
     "end_time": "2024-12-20T19:49:50.880487Z",
     "start_time": "2024-12-20T19:49:50.875114Z"
    }
   },
   "cell_type": "code",
   "source": [
    "torch.manual_seed(123)\n",
    "W_query = torch.nn.Parameter(torch.rand(d_in, d_out), requires_grad=False)\n",
    "W_value = torch.nn.Parameter(torch.rand(d_in, d_out), requires_grad=False)\n",
    "W_key = torch.nn.Parameter(torch.rand(d_in, d_out), requires_grad=False)"
   ],
   "id": "ace816cf5bee432a",
   "outputs": [],
   "execution_count": 5
  },
  {
   "metadata": {
    "ExecuteTime": {
     "end_time": "2024-12-20T19:49:50.941037Z",
     "start_time": "2024-12-20T19:49:50.937039Z"
    }
   },
   "cell_type": "code",
   "source": [
    "# x_2 é journey, então vamos encontrar a query para ele\n",
    "query_2 = x_2 @ W_query\n",
    "key_2 = x_2 @ W_key\n",
    "value_2 = x_2 @ W_value\n",
    "print(query_2)"
   ],
   "id": "2fe16525d2d89151",
   "outputs": [
    {
     "name": "stdout",
     "output_type": "stream",
     "text": [
      "tensor([0.4306, 1.4551])\n"
     ]
    }
   ],
   "execution_count": 6
  },
  {
   "metadata": {
    "ExecuteTime": {
     "end_time": "2024-12-20T19:49:51.006841Z",
     "start_time": "2024-12-20T19:49:51.003795Z"
    }
   },
   "cell_type": "code",
   "source": [
    "keys = inputs @ W_key\n",
    "values = inputs @ W_value\n",
    "queries = inputs @ W_query\n",
    "\n",
    "print(\"keys.shape: \", keys.shape)\n",
    "print(\"values.shape: \", values.shape)\n",
    "print(\"queries.shape: \", queries.shape)"
   ],
   "id": "8b961c578c07113d",
   "outputs": [
    {
     "name": "stdout",
     "output_type": "stream",
     "text": [
      "keys.shape:  torch.Size([6, 2])\n",
      "values.shape:  torch.Size([6, 2])\n",
      "queries.shape:  torch.Size([6, 2])\n"
     ]
    }
   ],
   "execution_count": 7
  },
  {
   "metadata": {
    "ExecuteTime": {
     "end_time": "2024-12-20T19:49:51.075880Z",
     "start_time": "2024-12-20T19:49:51.070766Z"
    }
   },
   "cell_type": "code",
   "source": [
    "keys_2 = keys[1] # keys para journey\n",
    "attn_score_22 = query_2.dot(keys_2)\n",
    "print(attn_score_22)"
   ],
   "id": "44aab4bef9209026",
   "outputs": [
    {
     "name": "stdout",
     "output_type": "stream",
     "text": [
      "tensor(1.6307)\n"
     ]
    }
   ],
   "execution_count": 8
  },
  {
   "metadata": {
    "ExecuteTime": {
     "end_time": "2024-12-20T19:49:51.138911Z",
     "start_time": "2024-12-20T19:49:51.135122Z"
    }
   },
   "cell_type": "code",
   "source": [
    "# query_2 é de dimensão 1x2\n",
    "attn_score_2 = query_2 @ keys.T\n",
    "print(attn_score_2)"
   ],
   "id": "c4ba553bd915bbfd",
   "outputs": [
    {
     "name": "stdout",
     "output_type": "stream",
     "text": [
      "tensor([1.3621, 1.6307, 1.5975, 0.9023, 0.5511, 1.2828])\n"
     ]
    }
   ],
   "execution_count": 9
  },
  {
   "metadata": {
    "ExecuteTime": {
     "end_time": "2024-12-20T19:49:51.202286Z",
     "start_time": "2024-12-20T19:49:51.198386Z"
    }
   },
   "cell_type": "code",
   "source": [
    "# Queries 6x2 e keys 2x6, resulta em matriz 6x6\n",
    "attn_scores = queries @ keys.T # Produto escalar entre vetores\n",
    "print(attn_scores) # cada linha simboliza os attn scores entre as queries e todas as outras chaves"
   ],
   "id": "55fd9d0878707467",
   "outputs": [
    {
     "name": "stdout",
     "output_type": "stream",
     "text": [
      "tensor([[1.0092, 1.1920, 1.1677, 0.6576, 0.4014, 0.9366],\n",
      "        [1.3621, 1.6307, 1.5975, 0.9023, 0.5511, 1.2828],\n",
      "        [1.3437, 1.6096, 1.5769, 0.8908, 0.5441, 1.2663],\n",
      "        [0.7477, 0.8950, 0.8768, 0.4952, 0.3025, 0.7041],\n",
      "        [0.6339, 0.7769, 0.7612, 0.4320, 0.2642, 0.6123],\n",
      "        [0.9758, 1.1587, 1.1351, 0.6400, 0.3907, 0.9109]])\n"
     ]
    }
   ],
   "execution_count": 10
  },
  {
   "metadata": {
    "ExecuteTime": {
     "end_time": "2024-12-20T19:49:51.265033Z",
     "start_time": "2024-12-20T19:49:51.260362Z"
    }
   },
   "cell_type": "code",
   "source": [
    "# Normalização para obter attention weights\n",
    "# Escalar valores para sqrt(keys_dim) antes de softmax\n",
    "# No caso, keys_dim = 2\n",
    "keys_dim = keys.shape[-1]\n",
    "attn_weights = torch.softmax(attn_scores / keys_dim**0.5, dim=-1)\n",
    "print(attn_weights)"
   ],
   "id": "d2bd516b38b38917",
   "outputs": [
    {
     "name": "stdout",
     "output_type": "stream",
     "text": [
      "tensor([[0.1774, 0.2019, 0.1984, 0.1384, 0.1154, 0.1685],\n",
      "        [0.1779, 0.2151, 0.2101, 0.1285, 0.1002, 0.1682],\n",
      "        [0.1777, 0.2145, 0.2096, 0.1290, 0.1010, 0.1683],\n",
      "        [0.1742, 0.1933, 0.1908, 0.1457, 0.1271, 0.1689],\n",
      "        [0.1718, 0.1900, 0.1879, 0.1489, 0.1322, 0.1692],\n",
      "        [0.1766, 0.2010, 0.1977, 0.1393, 0.1168, 0.1687]])\n"
     ]
    }
   ],
   "execution_count": 11
  },
  {
   "metadata": {
    "ExecuteTime": {
     "end_time": "2024-12-20T19:49:51.324414Z",
     "start_time": "2024-12-20T19:49:51.321065Z"
    }
   },
   "cell_type": "code",
   "source": [
    "context_vector = attn_weights @ values\n",
    "print(context_vector)"
   ],
   "id": "be47c77fb6703855",
   "outputs": [
    {
     "name": "stdout",
     "output_type": "stream",
     "text": [
      "tensor([[0.3507, 0.8808],\n",
      "        [0.3566, 0.8973],\n",
      "        [0.3563, 0.8966],\n",
      "        [0.3464, 0.8692],\n",
      "        [0.3446, 0.8644],\n",
      "        [0.3502, 0.8795]])\n"
     ]
    }
   ],
   "execution_count": 12
  },
  {
   "metadata": {
    "ExecuteTime": {
     "end_time": "2024-12-20T19:49:51.380967Z",
     "start_time": "2024-12-20T19:49:51.377251Z"
    }
   },
   "cell_type": "code",
   "source": [
    "class SelfAttention_v1(torch.nn.Module):\n",
    "    \n",
    "    def __init__(self, d_in, d_out):\n",
    "        super().__init__()\n",
    "        self.W_query = torch.nn.Parameter(torch.rand(d_in, d_out))\n",
    "        self.W_key = torch.nn.Parameter(torch.rand(d_in, d_out))\n",
    "        self.W_value = torch.nn.Parameter(torch.rand(d_in, d_out))\n",
    "    \n",
    "    # Computa keys values e queries\n",
    "    def forward(self, x):\n",
    "        keys = x @ self.W_key\n",
    "        values = x @ self.W_value\n",
    "        queries = x @ self.W_query\n",
    "        \n",
    "        attn_scores = queries @ keys.T\n",
    "        attn_weights = torch.softmax(\n",
    "            attn_scores / keys.shape[-1]**0.5, dim=-1\n",
    "        )\n",
    "        \n",
    "        context_vector = attn_weights @ values\n",
    "        return context_vector"
   ],
   "id": "460ec81d6fb88c84",
   "outputs": [],
   "execution_count": 13
  },
  {
   "metadata": {
    "ExecuteTime": {
     "end_time": "2024-12-20T19:49:51.439472Z",
     "start_time": "2024-12-20T19:49:51.434498Z"
    }
   },
   "cell_type": "code",
   "source": [
    "torch.manual_seed(123)\n",
    "sa_v1 = SelfAttention_v1(d_in, d_out)\n",
    "print(sa_v1(inputs)) # Chama a função de forward"
   ],
   "id": "b52a12e2b2e57bda",
   "outputs": [
    {
     "name": "stdout",
     "output_type": "stream",
     "text": [
      "tensor([[0.2996, 0.8053],\n",
      "        [0.3061, 0.8210],\n",
      "        [0.3058, 0.8203],\n",
      "        [0.2948, 0.7939],\n",
      "        [0.2927, 0.7891],\n",
      "        [0.2990, 0.8040]], grad_fn=<MmBackward0>)\n"
     ]
    }
   ],
   "execution_count": 14
  },
  {
   "metadata": {
    "ExecuteTime": {
     "end_time": "2024-12-20T19:49:51.493412Z",
     "start_time": "2024-12-20T19:49:51.489320Z"
    }
   },
   "cell_type": "code",
   "source": [
    "# Utilizando torch.nn.Linear para inicializar matrizes de pesos\n",
    "# de forma computacionalmente mais eficiente\n",
    "class SelfAttention_v2(torch.nn.Module):\n",
    "    \n",
    "    def __init__(self, d_in, d_out, qkv_bias=False):\n",
    "        super().__init__()\n",
    "        self.W_query = torch.nn.Linear(d_in, d_out, bias=qkv_bias)\n",
    "        self.W_key = torch.nn.Linear(d_in, d_out, bias=qkv_bias)\n",
    "        self.W_value = torch.nn.Linear(d_in, d_out, bias=qkv_bias)\n",
    "    \n",
    "    def forward(self, x):\n",
    "        queries = self.W_query(x)\n",
    "        keys = self.W_key(x)\n",
    "        values = self.W_value(x)\n",
    "        \n",
    "        attn_scores = queries @ keys.T\n",
    "        attn_weights = torch.softmax(attn_scores / keys.shape[-1]**0.5, dim=-1)\n",
    "        \n",
    "        context_vector = attn_weights @ values\n",
    "        return context_vector"
   ],
   "id": "c9ad23d01a8640eb",
   "outputs": [],
   "execution_count": 15
  },
  {
   "metadata": {
    "ExecuteTime": {
     "end_time": "2024-12-20T19:49:51.554139Z",
     "start_time": "2024-12-20T19:49:51.548240Z"
    }
   },
   "cell_type": "code",
   "source": [
    "torch.manual_seed(789)\n",
    "sa_v2 = SelfAttention_v2(d_in, d_out)\n",
    "print(sa_v2(inputs))"
   ],
   "id": "3b6fc3ef4b3d4f6e",
   "outputs": [
    {
     "name": "stdout",
     "output_type": "stream",
     "text": [
      "tensor([[-0.0739,  0.0713],\n",
      "        [-0.0748,  0.0703],\n",
      "        [-0.0749,  0.0702],\n",
      "        [-0.0760,  0.0685],\n",
      "        [-0.0763,  0.0679],\n",
      "        [-0.0754,  0.0693]], grad_fn=<MmBackward0>)\n"
     ]
    }
   ],
   "execution_count": 16
  },
  {
   "metadata": {
    "ExecuteTime": {
     "end_time": "2024-12-20T19:49:51.627272Z",
     "start_time": "2024-12-20T19:49:51.622355Z"
    }
   },
   "cell_type": "code",
   "source": [
    "# Mascarando attention weights para causal attention\n",
    "queries = sa_v2.W_query(inputs)\n",
    "keys = sa_v2.W_key(inputs)\n",
    "attn_scores = queries @ keys.T\n",
    "attn_weights = torch.softmax(attn_scores / keys.shape[-1]**0.5, dim=1)\n",
    "print(attn_weights)"
   ],
   "id": "6d99d21d6c8aad51",
   "outputs": [
    {
     "name": "stdout",
     "output_type": "stream",
     "text": [
      "tensor([[0.1921, 0.1646, 0.1652, 0.1550, 0.1721, 0.1510],\n",
      "        [0.2041, 0.1659, 0.1662, 0.1496, 0.1665, 0.1477],\n",
      "        [0.2036, 0.1659, 0.1662, 0.1498, 0.1664, 0.1480],\n",
      "        [0.1869, 0.1667, 0.1668, 0.1571, 0.1661, 0.1564],\n",
      "        [0.1830, 0.1669, 0.1670, 0.1588, 0.1658, 0.1585],\n",
      "        [0.1935, 0.1663, 0.1666, 0.1542, 0.1666, 0.1529]],\n",
      "       grad_fn=<SoftmaxBackward0>)\n"
     ]
    }
   ],
   "execution_count": 17
  },
  {
   "metadata": {
    "ExecuteTime": {
     "end_time": "2024-12-20T19:49:51.686533Z",
     "start_time": "2024-12-20T19:49:51.680624Z"
    }
   },
   "cell_type": "code",
   "source": [
    "context_length = attn_scores.shape[0] # quantas palavras o modelo pode olhar antes de prever a próxima\n",
    "mask_simple = torch.tril(torch.ones(context_length, context_length))\n",
    "print(mask_simple)"
   ],
   "id": "e6eda62061f57a90",
   "outputs": [
    {
     "name": "stdout",
     "output_type": "stream",
     "text": [
      "tensor([[1., 0., 0., 0., 0., 0.],\n",
      "        [1., 1., 0., 0., 0., 0.],\n",
      "        [1., 1., 1., 0., 0., 0.],\n",
      "        [1., 1., 1., 1., 0., 0.],\n",
      "        [1., 1., 1., 1., 1., 0.],\n",
      "        [1., 1., 1., 1., 1., 1.]])\n"
     ]
    }
   ],
   "execution_count": 18
  },
  {
   "metadata": {
    "ExecuteTime": {
     "end_time": "2024-12-20T19:49:51.748531Z",
     "start_time": "2024-12-20T19:49:51.743540Z"
    }
   },
   "cell_type": "code",
   "source": [
    "masked_simple = attn_weights * mask_simple\n",
    "print(masked_simple)"
   ],
   "id": "62c7dad596c8c838",
   "outputs": [
    {
     "name": "stdout",
     "output_type": "stream",
     "text": [
      "tensor([[0.1921, 0.0000, 0.0000, 0.0000, 0.0000, 0.0000],\n",
      "        [0.2041, 0.1659, 0.0000, 0.0000, 0.0000, 0.0000],\n",
      "        [0.2036, 0.1659, 0.1662, 0.0000, 0.0000, 0.0000],\n",
      "        [0.1869, 0.1667, 0.1668, 0.1571, 0.0000, 0.0000],\n",
      "        [0.1830, 0.1669, 0.1670, 0.1588, 0.1658, 0.0000],\n",
      "        [0.1935, 0.1663, 0.1666, 0.1542, 0.1666, 0.1529]],\n",
      "       grad_fn=<MulBackward0>)\n"
     ]
    }
   ],
   "execution_count": 19
  },
  {
   "metadata": {
    "ExecuteTime": {
     "end_time": "2024-12-20T19:49:51.811096Z",
     "start_time": "2024-12-20T19:49:51.805898Z"
    }
   },
   "cell_type": "code",
   "source": [
    "row_sums = masked_simple.sum(dim=1, keepdim=True)\n",
    "masked_simple_norm = masked_simple / row_sums   # Causa data leakage - tokens futuros já afetaram\n",
    "print(masked_simple_norm)"
   ],
   "id": "871552f7f3737403",
   "outputs": [
    {
     "name": "stdout",
     "output_type": "stream",
     "text": [
      "tensor([[1.0000, 0.0000, 0.0000, 0.0000, 0.0000, 0.0000],\n",
      "        [0.5517, 0.4483, 0.0000, 0.0000, 0.0000, 0.0000],\n",
      "        [0.3800, 0.3097, 0.3103, 0.0000, 0.0000, 0.0000],\n",
      "        [0.2758, 0.2460, 0.2462, 0.2319, 0.0000, 0.0000],\n",
      "        [0.2175, 0.1983, 0.1984, 0.1888, 0.1971, 0.0000],\n",
      "        [0.1935, 0.1663, 0.1666, 0.1542, 0.1666, 0.1529]],\n",
      "       grad_fn=<DivBackward0>)\n"
     ]
    }
   ],
   "execution_count": 20
  },
  {
   "metadata": {
    "ExecuteTime": {
     "end_time": "2024-12-20T19:49:51.873631Z",
     "start_time": "2024-12-20T19:49:51.869336Z"
    }
   },
   "cell_type": "code",
   "source": [
    "# Melhor jeito para não causar data leakage é colocar tokens futuros como -inf\n",
    "# e após isso aplicar a função softmax para realizar a normalização\n",
    "mask = torch.triu(torch.ones(context_length, context_length), diagonal=1)\n",
    "masked = attn_scores.masked_fill(mask.bool(), -torch.inf) # verifica onde tem 1 na matriz triu e substitui por -inf\n",
    "print(masked)"
   ],
   "id": "5deab0db6f4f54f5",
   "outputs": [
    {
     "name": "stdout",
     "output_type": "stream",
     "text": [
      "tensor([[0.2899,   -inf,   -inf,   -inf,   -inf,   -inf],\n",
      "        [0.4656, 0.1723,   -inf,   -inf,   -inf,   -inf],\n",
      "        [0.4594, 0.1703, 0.1731,   -inf,   -inf,   -inf],\n",
      "        [0.2642, 0.1024, 0.1036, 0.0186,   -inf,   -inf],\n",
      "        [0.2183, 0.0874, 0.0882, 0.0177, 0.0786,   -inf],\n",
      "        [0.3408, 0.1270, 0.1290, 0.0198, 0.1290, 0.0078]],\n",
      "       grad_fn=<MaskedFillBackward0>)\n"
     ]
    }
   ],
   "execution_count": 21
  },
  {
   "metadata": {
    "ExecuteTime": {
     "end_time": "2024-12-20T19:49:51.935028Z",
     "start_time": "2024-12-20T19:49:51.929704Z"
    }
   },
   "cell_type": "code",
   "source": [
    "attn_weights = torch.softmax(masked / keys.shape[-1]**0.5, dim=1)\n",
    "print(attn_weights)"
   ],
   "id": "f07ace99426c2e66",
   "outputs": [
    {
     "name": "stdout",
     "output_type": "stream",
     "text": [
      "tensor([[1.0000, 0.0000, 0.0000, 0.0000, 0.0000, 0.0000],\n",
      "        [0.5517, 0.4483, 0.0000, 0.0000, 0.0000, 0.0000],\n",
      "        [0.3800, 0.3097, 0.3103, 0.0000, 0.0000, 0.0000],\n",
      "        [0.2758, 0.2460, 0.2462, 0.2319, 0.0000, 0.0000],\n",
      "        [0.2175, 0.1983, 0.1984, 0.1888, 0.1971, 0.0000],\n",
      "        [0.1935, 0.1663, 0.1666, 0.1542, 0.1666, 0.1529]],\n",
      "       grad_fn=<SoftmaxBackward0>)\n"
     ]
    }
   ],
   "execution_count": 22
  },
  {
   "metadata": {
    "ExecuteTime": {
     "end_time": "2024-12-20T19:49:52.000711Z",
     "start_time": "2024-12-20T19:49:51.996677Z"
    }
   },
   "cell_type": "code",
   "source": [
    "context_vector = attn_weights @ values\n",
    "print(context_vector)"
   ],
   "id": "a07deeb669da999a",
   "outputs": [
    {
     "name": "stdout",
     "output_type": "stream",
     "text": [
      "tensor([[0.3669, 0.7646],\n",
      "        [0.4012, 0.9337],\n",
      "        [0.4120, 0.9904],\n",
      "        [0.3735, 0.9221],\n",
      "        [0.3357, 0.8055],\n",
      "        [0.3350, 0.8293]], grad_fn=<MmBackward0>)\n"
     ]
    }
   ],
   "execution_count": 23
  },
  {
   "metadata": {
    "ExecuteTime": {
     "end_time": "2024-12-20T19:49:52.066700Z",
     "start_time": "2024-12-20T19:49:52.059980Z"
    }
   },
   "cell_type": "code",
   "source": [
    "# Dropout -> previne overfitting e melhora generalização\n",
    "# Pode ser utilizado após calcular attention scores e depois de obter context vector\n",
    "# Desligar (zerar) attention scores aleatoriamente\n",
    "torch.manual_seed(123)\n",
    "dropout = torch.nn.Dropout(0.5) # Desliga em média 50% dos pesos\n",
    "example = torch.ones(6, 6)\n",
    "print(dropout(example)) # Para compensar pelo desligamento, os elementos restantes são escalados em 1 / (1 - p), sendo p = 0.5"
   ],
   "id": "dd898658f5943eb1",
   "outputs": [
    {
     "name": "stdout",
     "output_type": "stream",
     "text": [
      "tensor([[2., 2., 2., 2., 2., 2.],\n",
      "        [0., 2., 0., 0., 0., 0.],\n",
      "        [0., 0., 2., 0., 2., 0.],\n",
      "        [2., 2., 0., 0., 0., 2.],\n",
      "        [2., 0., 0., 0., 0., 2.],\n",
      "        [0., 2., 0., 0., 0., 0.]])\n"
     ]
    }
   ],
   "execution_count": 24
  },
  {
   "metadata": {
    "ExecuteTime": {
     "end_time": "2024-12-20T19:49:52.133481Z",
     "start_time": "2024-12-20T19:49:52.127552Z"
    }
   },
   "cell_type": "code",
   "source": [
    "torch.manual_seed(123)\n",
    "print(attn_weights)\n",
    "print(dropout(attn_weights))"
   ],
   "id": "a722e0bd20a93097",
   "outputs": [
    {
     "name": "stdout",
     "output_type": "stream",
     "text": [
      "tensor([[1.0000, 0.0000, 0.0000, 0.0000, 0.0000, 0.0000],\n",
      "        [0.5517, 0.4483, 0.0000, 0.0000, 0.0000, 0.0000],\n",
      "        [0.3800, 0.3097, 0.3103, 0.0000, 0.0000, 0.0000],\n",
      "        [0.2758, 0.2460, 0.2462, 0.2319, 0.0000, 0.0000],\n",
      "        [0.2175, 0.1983, 0.1984, 0.1888, 0.1971, 0.0000],\n",
      "        [0.1935, 0.1663, 0.1666, 0.1542, 0.1666, 0.1529]],\n",
      "       grad_fn=<SoftmaxBackward0>)\n",
      "tensor([[2.0000, 0.0000, 0.0000, 0.0000, 0.0000, 0.0000],\n",
      "        [0.0000, 0.8966, 0.0000, 0.0000, 0.0000, 0.0000],\n",
      "        [0.0000, 0.0000, 0.6206, 0.0000, 0.0000, 0.0000],\n",
      "        [0.5517, 0.4921, 0.0000, 0.0000, 0.0000, 0.0000],\n",
      "        [0.4350, 0.0000, 0.0000, 0.0000, 0.0000, 0.0000],\n",
      "        [0.0000, 0.3327, 0.0000, 0.0000, 0.0000, 0.0000]],\n",
      "       grad_fn=<MulBackward0>)\n"
     ]
    }
   ],
   "execution_count": 25
  },
  {
   "metadata": {
    "ExecuteTime": {
     "end_time": "2024-12-20T19:49:52.194346Z",
     "start_time": "2024-12-20T19:49:52.191215Z"
    }
   },
   "cell_type": "code",
   "source": [
    "batch = torch.stack((inputs, inputs), dim=0)\n",
    "print(batch.shape) # 2 batches 6x3"
   ],
   "id": "ae8c1e894bd876b0",
   "outputs": [
    {
     "name": "stdout",
     "output_type": "stream",
     "text": [
      "torch.Size([2, 6, 3])\n"
     ]
    }
   ],
   "execution_count": 26
  },
  {
   "metadata": {
    "ExecuteTime": {
     "end_time": "2024-12-20T19:49:52.251435Z",
     "start_time": "2024-12-20T19:49:52.245559Z"
    }
   },
   "cell_type": "code",
   "source": [
    "class CausalAttention(torch.nn.Module):\n",
    "    def __init__(self, d_in, d_out, context_length, dropout, qkv_bias=False):\n",
    "        super().__init__()\n",
    "        self.d_out = d_out\n",
    "        self.W_query = torch.nn.Linear(d_in, d_out, bias=qkv_bias)\n",
    "        self.W_key = torch.nn.Linear(d_in, d_out, bias=qkv_bias)\n",
    "        self.W_value = torch.nn.Linear(d_in, d_out, bias=qkv_bias)\n",
    "        self.dropout = torch.nn.Dropout(dropout)\n",
    "        # usamos buffer para mover automaticamente para cpu ou gpu junto com o modelo\n",
    "        self.register_buffer('mask', torch.triu(torch.ones(context_length, context_length), diagonal=1)) # criando máscara\n",
    "    \n",
    "    def forward(self, x):\n",
    "        batch_dim, num_tokens, d_in = x.shape # batch é o número de batches\n",
    "        keys = self.W_key(x) # multiplica input pela matriz de pesos keys\n",
    "        values = self.W_value(x)\n",
    "        queries = self.W_query(x)\n",
    "        \n",
    "        # batches processados sequencialmente\n",
    "        # matriz queries vira lista de batches\n",
    "        attn_scores = queries @ keys.transpose(1, 2) # transpões apenas dimensões num_tokens e dimensões de input para possibilitar multiplicação\n",
    "        # :num_tokens para levar em conta casos que o número de tokens no batch é menor do que o context_length suportado\n",
    "        attn_scores.masked_fill_(\n",
    "            self.mask.bool()[:num_tokens, :num_tokens], -torch.inf\n",
    "        )\n",
    "        attn_weights = torch.softmax(attn_scores / keys.shape[-1]**0.5, dim=-1)\n",
    "        attn_weights = self.dropout(attn_weights)\n",
    "        \n",
    "        context_vector = attn_weights @ values\n",
    "        return context_vector\n",
    "        "
   ],
   "id": "70e3bd1e55256d59",
   "outputs": [],
   "execution_count": 27
  },
  {
   "metadata": {
    "ExecuteTime": {
     "end_time": "2024-12-20T19:49:52.311433Z",
     "start_time": "2024-12-20T19:49:52.305466Z"
    }
   },
   "cell_type": "code",
   "source": [
    "torch.manual_seed(123)\n",
    "context_length = batch.shape[1] # pois temos um batch size de 6\n",
    "ca = CausalAttention(d_in, d_out, context_length, 0.0)\n",
    "context_vectors = ca(batch)\n",
    "print(context_vectors.shape) # 2x6x2 pois temos 2 inputs e cada context vector tem tamanho 6x2"
   ],
   "id": "6a9e6dab1fe32f23",
   "outputs": [
    {
     "name": "stdout",
     "output_type": "stream",
     "text": [
      "torch.Size([2, 6, 2])\n"
     ]
    }
   ],
   "execution_count": 28
  },
  {
   "metadata": {
    "ExecuteTime": {
     "end_time": "2024-12-20T19:49:52.364949Z",
     "start_time": "2024-12-20T19:49:52.360926Z"
    }
   },
   "cell_type": "code",
   "source": [
    "class MultiHeadAttentionWrapper(torch.nn.Module):\n",
    "    # d_out é a dimensão do output que queremos\n",
    "    def __init__(self, d_in, d_out, context_length, dropout, num_heads, qkv_bias=False):\n",
    "        super().__init__()\n",
    "        self.heads = torch.nn.ModuleList(\n",
    "            [CausalAttention(d_in, d_out, context_length, dropout, qkv_bias) for _ in range(num_heads)]\n",
    "        )\n",
    "        \n",
    "    def forward(self, x):\n",
    "        return torch.cat([head(x) for head in self.heads], dim=-1)"
   ],
   "id": "afe7af4ca848a17",
   "outputs": [],
   "execution_count": 29
  },
  {
   "metadata": {
    "ExecuteTime": {
     "end_time": "2024-12-20T19:49:52.440949Z",
     "start_time": "2024-12-20T19:49:52.434370Z"
    }
   },
   "cell_type": "code",
   "source": [
    "torch.manual_seed(123)\n",
    "context_length = batch.shape[1] # número de tokens\n",
    "d_in, d_out = 3, 2\n",
    "mha = MultiHeadAttentionWrapper(d_in, d_out, context_length, 0.0, num_heads=2)\n",
    "context_vectors = mha(batch)\n",
    "print(context_vectors)\n",
    "print(\"context_vectors.shape: \", context_vectors.shape) # 4 dimensões pois possui 2 heads e d_out = 2, então concatenamos"
   ],
   "id": "b9c12d58ae6caaca",
   "outputs": [
    {
     "name": "stdout",
     "output_type": "stream",
     "text": [
      "tensor([[[-0.4519,  0.2216,  0.4772,  0.1063],\n",
      "         [-0.5874,  0.0058,  0.5891,  0.3257],\n",
      "         [-0.6300, -0.0632,  0.6202,  0.3860],\n",
      "         [-0.5675, -0.0843,  0.5478,  0.3589],\n",
      "         [-0.5526, -0.0981,  0.5321,  0.3428],\n",
      "         [-0.5299, -0.1081,  0.5077,  0.3493]],\n",
      "\n",
      "        [[-0.4519,  0.2216,  0.4772,  0.1063],\n",
      "         [-0.5874,  0.0058,  0.5891,  0.3257],\n",
      "         [-0.6300, -0.0632,  0.6202,  0.3860],\n",
      "         [-0.5675, -0.0843,  0.5478,  0.3589],\n",
      "         [-0.5526, -0.0981,  0.5321,  0.3428],\n",
      "         [-0.5299, -0.1081,  0.5077,  0.3493]]], grad_fn=<CatBackward0>)\n",
      "context_vectors.shape:  torch.Size([2, 6, 4])\n"
     ]
    }
   ],
   "execution_count": 30
  },
  {
   "metadata": {
    "ExecuteTime": {
     "end_time": "2024-12-20T19:49:52.495515Z",
     "start_time": "2024-12-20T19:49:52.487308Z"
    }
   },
   "cell_type": "code",
   "source": [
    "# Combinando classes anteriores\n",
    "class MultiHeadAttention(torch.nn.Module):\n",
    "    \n",
    "    def __init__(self, d_in, d_out, context_length, dropout, num_heads, qkv_bias=False):\n",
    "        super().__init__()\n",
    "        assert (d_out % num_heads == 0), \\\n",
    "            \"d_out deve ser divisível por num_heads\"\n",
    "    \n",
    "        self.d_out = d_out\n",
    "        self.num_heads = num_heads\n",
    "        self.head_dim = d_out // num_heads\n",
    "        \n",
    "        self.W_query = torch.nn.Linear(d_in, d_out, bias=qkv_bias)\n",
    "        self.W_key = torch.nn.Linear(d_in, d_out, bias=qkv_bias)\n",
    "        self.W_value = torch.nn.Linear(d_in, d_out, bias=qkv_bias)\n",
    "        self.out_proj = torch.nn.Linear(d_out, d_out) # camada linear para combinar outputs de cada head\n",
    "        self.dropout = torch.nn.Dropout(dropout)\n",
    "        self.register_buffer(\n",
    "            \"mask\",\n",
    "            torch.triu(torch.ones(context_length, context_length), diagonal=1),\n",
    "        )\n",
    "    \n",
    "    def forward(self, x):\n",
    "        b, num_tokens, d_in = x.shape\n",
    "        \n",
    "        keys = self.W_key(x)\n",
    "        values = self.W_value(x)\n",
    "        queries = self.W_query(x)\n",
    "        \n",
    "        # dividindo matrizes implicitamente ao adicionar dimensão num_heads\n",
    "        keys = keys.view(b, num_tokens, self.num_heads, self.head_dim)\n",
    "        values = values.view(b, num_tokens, self.num_heads, self.head_dim)\n",
    "        queries = queries.view(b, num_tokens, self.num_heads, self.head_dim)\n",
    "        \n",
    "        # transpose: (b, num_tokens, num_heads, head_dim) -> (b, num_heads, num_tokens, head_dim)\n",
    "        # agrupando por head, cada uma vai ter uma matriz de attention score\n",
    "        # inicialmente agrupava por número de tokens, mas não é eficiente para calcularmos attention scores para cada cabeça paralelamente\n",
    "        keys = keys.transpose(1, 2)\n",
    "        queries = queries.transpose(1, 2)\n",
    "        values = values.transpose(1, 2)\n",
    "        \n",
    "        # computando attention scores\n",
    "        # após a multiplicação, fica com dimensões (b, num_heads, num_tokens, num_tokens), e simboliza o valor de atenção que precisa dar p cada palavra\n",
    "        attn_scores = queries @ keys.transpose(2, 3) # o que é importante é num_tokens e head_dim para calcularmos produto escalar\n",
    "        \n",
    "        mask_bool = self.mask.bool()[:num_tokens, :num_tokens]\n",
    "        \n",
    "        attn_scores.masked_fill_(mask_bool, -torch.inf)\n",
    "        \n",
    "        attn_weights = torch.softmax(attn_scores / keys.shape[-1]**0.5, dim=-1)\n",
    "        attn_weights = self.dropout(attn_weights)\n",
    "        \n",
    "        # attention weights tem dimensões (b, num_heads, num_tokens, num_tokens)\n",
    "        # values tem dimensões (b, num_heads, num_tokens, head_dim)\n",
    "        # Attention weights e values tem a mesma dimensão como linhas, então é possível multiplicar\n",
    "        # dimensão final: (b, num_heads, num_tokens, head_dim)\n",
    "        # com isso, transpomos a matriz para termos (b, num_tokens, num_heads, head_dim) para podermos dar merge no num_heads e head_dim\n",
    "        context_vector = (attn_weights @ values).transpose(1, 2)\n",
    "        \n",
    "        # combinando heads, self_d_out = self.num_heads * self_head_dim\n",
    "        # Fica com dimensão (b, num_tokens, d_out)\n",
    "        # contiguous() serve para colocar as matrizes no mesmo bloco de memória para fazermos o merge\n",
    "        context_vector = context_vector.contiguous().view(b, num_tokens, self.d_out)\n",
    "        context_vector = self.out_proj(context_vector) # projeção opcional\n",
    "        \n",
    "        return context_vector"
   ],
   "id": "bc86b7796a229543",
   "outputs": [],
   "execution_count": 31
  },
  {
   "metadata": {
    "ExecuteTime": {
     "end_time": "2024-12-20T19:49:52.553606Z",
     "start_time": "2024-12-20T19:49:52.545810Z"
    }
   },
   "cell_type": "code",
   "source": [
    "# Testando multi head attention\n",
    "torch.manual_seed(123)\n",
    "\n",
    "inputs = torch.tensor(\n",
    "    [[0.43, 0.15, 0.89, 0.55, 0.87, 0.66],\n",
    "     [0.57, 0.85, 0.64, 0.22, 0.58, 0.33],\n",
    "     [0.77, 0.25, 0.10, 0.05, 0.80, 0.55]]\n",
    ")\n",
    "\n",
    "batch = torch.stack((inputs, inputs), dim=0)\n",
    "print(batch.shape)\n",
    "\n",
    "batch_size, context_length, d_in = batch.shape\n",
    "d_out = 6\n",
    "mha = MultiHeadAttention(d_in, d_out, context_length, 0.0, num_heads=2)\n",
    "context_vectors = mha(batch)\n",
    "print(context_vectors)\n",
    "print(\"context_vectors.shape: \", context_vectors.shape)"
   ],
   "id": "960bb7f0394b51be",
   "outputs": [
    {
     "name": "stdout",
     "output_type": "stream",
     "text": [
      "torch.Size([2, 3, 6])\n",
      "tensor([[[ 0.1569, -0.0873,  0.0210,  0.0215, -0.3243, -0.2518],\n",
      "         [ 0.1117, -0.0547,  0.0406, -0.0213, -0.3251, -0.2993],\n",
      "         [ 0.1196, -0.0491,  0.0318, -0.0635, -0.2788, -0.2578]],\n",
      "\n",
      "        [[ 0.1569, -0.0873,  0.0210,  0.0215, -0.3243, -0.2518],\n",
      "         [ 0.1117, -0.0547,  0.0406, -0.0213, -0.3251, -0.2993],\n",
      "         [ 0.1196, -0.0491,  0.0318, -0.0635, -0.2788, -0.2578]]],\n",
      "       grad_fn=<ViewBackward0>)\n",
      "context_vectors.shape:  torch.Size([2, 3, 6])\n"
     ]
    }
   ],
   "execution_count": 32
  }
 ],
 "metadata": {
  "kernelspec": {
   "display_name": "Python 3",
   "language": "python",
   "name": "python3"
  },
  "language_info": {
   "codemirror_mode": {
    "name": "ipython",
    "version": 2
   },
   "file_extension": ".py",
   "mimetype": "text/x-python",
   "name": "python",
   "nbconvert_exporter": "python",
   "pygments_lexer": "ipython2",
   "version": "2.7.6"
  }
 },
 "nbformat": 4,
 "nbformat_minor": 5
}
